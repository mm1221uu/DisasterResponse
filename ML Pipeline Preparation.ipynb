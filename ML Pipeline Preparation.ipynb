{
 "cells": [
  {
   "cell_type": "markdown",
   "metadata": {},
   "source": [
    "# ML Pipeline Preparation\n",
    "Follow the instructions below to help you create your ML pipeline.\n",
    "### 1. Import libraries and load data from database.\n",
    "- Import Python libraries\n",
    "- Load dataset from database with [`read_sql_table`](https://pandas.pydata.org/pandas-docs/stable/generated/pandas.read_sql_table.html)\n",
    "- Define feature and target variables X and Y"
   ]
  },
  {
   "cell_type": "code",
   "execution_count": 60,
   "metadata": {},
   "outputs": [
    {
     "name": "stdout",
     "output_type": "stream",
     "text": [
      "[nltk_data] Downloading package punkt to /root/nltk_data...\n",
      "[nltk_data]   Package punkt is already up-to-date!\n",
      "[nltk_data] Downloading package wordnet to /root/nltk_data...\n",
      "[nltk_data]   Package wordnet is already up-to-date!\n"
     ]
    }
   ],
   "source": [
    "# import libraries\n",
    "import nltk\n",
    "import numpy as np\n",
    "nltk.download(['punkt', 'wordnet'])\n",
    "from nltk.tokenize import word_tokenize, RegexpTokenizer\n",
    "from nltk.stem import WordNetLemmatizer\n",
    "import pandas as pd\n",
    "from sqlalchemy import create_engine\n",
    "import re\n",
    "from sklearn.pipeline import Pipeline\n",
    "from sklearn.ensemble import RandomForestClassifier\n",
    "from sklearn.multioutput import MultiOutputClassifier\n",
    "from sklearn.model_selection import train_test_split, GridSearchCV\n",
    "from sklearn.feature_extraction.text import CountVectorizer, TfidfTransformer\n",
    "from sklearn.metrics import precision_recall_fscore_support\n",
    "from sklearn.tree import DecisionTreeClassifier\n",
    "from sklearn.svm import SVC\n",
    "from sklearn.metrics import classification_report\n",
    "from sklearn.multioutput import MultiOutputClassifier\n",
    "from sklearn.preprocessing import StandardScaler\n",
    "import pickle\n",
    "from sklearn.metrics import confusion_matrix\n",
    "from sklearn.ensemble import AdaBoostClassifier\n",
    "import pickle\n"
   ]
  },
  {
   "cell_type": "code",
   "execution_count": 33,
   "metadata": {},
   "outputs": [],
   "source": [
    "engine = create_engine('sqlite:///res.db')\n",
    "df = pd.read_sql('SELECT * FROM res', engine)\n",
    "X = df['message']\n",
    "#droping 'child_alone' as well since its all 1's\n",
    "y = df.drop(['id', 'message', 'original', 'genre','child_alone'], axis=1)\n",
    "\n",
    "y['related']=y['related'].map(lambda x: 1 if x == 2 else x)"
   ]
  },
  {
   "cell_type": "markdown",
   "metadata": {},
   "source": [
    "### 2. Write a tokenization function to process your text data"
   ]
  },
  {
   "cell_type": "code",
   "execution_count": 34,
   "metadata": {},
   "outputs": [],
   "source": [
    "def tokenize(text):\n",
    "    tokens = nltk.word_tokenize(text)\n",
    "    lemmatizer = nltk.WordNetLemmatizer()\n",
    "    \n",
    "    clean_tokens = []\n",
    "    for tok in tokens:\n",
    "        clean_tok = lemmatizer.lemmatize(tok).lower().strip()\n",
    "        clean_tokens.append(clean_tok)\n",
    "\n",
    "    return clean_tokens"
   ]
  },
  {
   "cell_type": "markdown",
   "metadata": {},
   "source": [
    "### 3. Build a machine learning pipeline\n",
    "This machine pipeline should take in the `message` column as input and output classification results on the other 36 categories in the dataset. You may find the [MultiOutputClassifier](http://scikit-learn.org/stable/modules/generated/sklearn.multioutput.MultiOutputClassifier.html) helpful for predicting multiple target variables."
   ]
  },
  {
   "cell_type": "code",
   "execution_count": 35,
   "metadata": {},
   "outputs": [],
   "source": [
    "pipeline = Pipeline([\n",
    "        ('vect', CountVectorizer(tokenizer=tokenize)),\n",
    "        ('tfidf', TfidfTransformer()),\n",
    "        ('clf', RandomForestClassifier())\n",
    "    ])"
   ]
  },
  {
   "cell_type": "markdown",
   "metadata": {},
   "source": [
    "### 4. Train pipeline\n",
    "- Split data into train and test sets\n",
    "- Train pipeline"
   ]
  },
  {
   "cell_type": "code",
   "execution_count": 40,
   "metadata": {},
   "outputs": [],
   "source": [
    "X_train, X_test, y_train, y_test = train_test_split(X, y)"
   ]
  },
  {
   "cell_type": "code",
   "execution_count": 41,
   "metadata": {},
   "outputs": [],
   "source": [
    "# train classifier\n",
    "pipeline.fit(X_train, y_train)\n",
    "\n",
    "# predict on test data\n",
    "y_pred = pipeline.predict(X_test)\n",
    "\n",
    "#X_train, X_test, y_train, y_test = train_test_split(X, y)\n",
    "#pipeline.fit(X_train.as_matrix(), y_train.as_matrix())"
   ]
  },
  {
   "cell_type": "markdown",
   "metadata": {},
   "source": [
    "### 5. Test your model\n",
    "Report the f1 score, precision and recall for each output category of the dataset. You can do this by iterating through the columns and calling sklearn's `classification_report` on each."
   ]
  },
  {
   "cell_type": "code",
   "execution_count": 44,
   "metadata": {},
   "outputs": [],
   "source": [
    "def display_results(y_test, y_pred):\n",
    "    labels = np.unique(y_pred)\n",
    "    accuracy = (y_pred == y_test).mean()\n",
    "    totalAcc = sum(accuracy)/len(accuracy)\n",
    "    print(classification_report(y_test.values, y_pred, target_names=y.columns.values))\n",
    "    print(\"----------------------------------------------------------------------\")\n",
    "    print(\"Overall: \\n\", totalAcc,'')\n"
   ]
  },
  {
   "cell_type": "code",
   "execution_count": 45,
   "metadata": {},
   "outputs": [
    {
     "name": "stdout",
     "output_type": "stream",
     "text": [
      "                        precision    recall  f1-score   support\n",
      "\n",
      "               related       0.78      0.89      0.83      5008\n",
      "               request       0.39      0.08      0.13      1090\n",
      "                 offer       0.00      0.00      0.00        40\n",
      "           aid_related       0.44      0.13      0.20      2698\n",
      "          medical_help       0.00      0.00      0.00       506\n",
      "      medical_products       0.20      0.01      0.01       341\n",
      "     search_and_rescue       0.00      0.00      0.00       185\n",
      "              security       0.00      0.00      0.00       108\n",
      "              military       0.00      0.00      0.00       203\n",
      "                 water       0.25      0.00      0.01       382\n",
      "                  food       0.33      0.01      0.01       706\n",
      "               shelter       0.09      0.00      0.00       553\n",
      "              clothing       0.25      0.01      0.02        96\n",
      "                 money       0.33      0.01      0.01       160\n",
      "        missing_people       0.00      0.00      0.00        89\n",
      "              refugees       0.00      0.00      0.00       233\n",
      "                 death       0.25      0.00      0.01       301\n",
      "             other_aid       0.15      0.00      0.00       887\n",
      "infrastructure_related       0.20      0.00      0.00       443\n",
      "             transport       0.00      0.00      0.00       305\n",
      "             buildings       0.12      0.00      0.01       317\n",
      "           electricity       0.00      0.00      0.00       119\n",
      "                 tools       0.00      0.00      0.00        38\n",
      "             hospitals       0.00      0.00      0.00        66\n",
      "                 shops       0.00      0.00      0.00        30\n",
      "           aid_centers       0.00      0.00      0.00        74\n",
      "  other_infrastructure       0.33      0.00      0.01       307\n",
      "       weather_related       0.55      0.11      0.19      1850\n",
      "                floods       0.50      0.01      0.01       551\n",
      "                 storm       0.48      0.03      0.06       596\n",
      "                  fire       0.00      0.00      0.00        69\n",
      "            earthquake       0.82      0.13      0.22       644\n",
      "                  cold       0.00      0.00      0.00       128\n",
      "         other_weather       0.11      0.00      0.01       360\n",
      "         direct_report       0.37      0.05      0.09      1290\n",
      "\n",
      "           avg / total       0.44      0.25      0.27     20773\n",
      "\n",
      "----------------------------------------------------------------------\n",
      "Overall: \n",
      " 0.9224402581545438 \n"
     ]
    },
    {
     "name": "stderr",
     "output_type": "stream",
     "text": [
      "/opt/conda/lib/python3.6/site-packages/sklearn/metrics/classification.py:1135: UndefinedMetricWarning: Precision and F-score are ill-defined and being set to 0.0 in labels with no predicted samples.\n",
      "  'precision', 'predicted', average, warn_for)\n"
     ]
    }
   ],
   "source": [
    "results = display_results(y_test, y_pred)\n",
    "results"
   ]
  },
  {
   "cell_type": "markdown",
   "metadata": {},
   "source": [
    "### 6. Improve your model\n",
    "Use grid search to find better parameters. "
   ]
  },
  {
   "cell_type": "code",
   "execution_count": 46,
   "metadata": {},
   "outputs": [
    {
     "data": {
      "text/plain": [
       "{'memory': None,\n",
       " 'steps': [('vect',\n",
       "   CountVectorizer(analyzer='word', binary=False, decode_error='strict',\n",
       "           dtype=<class 'numpy.int64'>, encoding='utf-8', input='content',\n",
       "           lowercase=True, max_df=1.0, max_features=None, min_df=1,\n",
       "           ngram_range=(1, 1), preprocessor=None, stop_words=None,\n",
       "           strip_accents=None, token_pattern='(?u)\\\\b\\\\w\\\\w+\\\\b',\n",
       "           tokenizer=<function tokenize at 0x7f6124adfe18>, vocabulary=None)),\n",
       "  ('tfidf',\n",
       "   TfidfTransformer(norm='l2', smooth_idf=True, sublinear_tf=False, use_idf=True)),\n",
       "  ('clf',\n",
       "   RandomForestClassifier(bootstrap=True, class_weight=None, criterion='gini',\n",
       "               max_depth=None, max_features='auto', max_leaf_nodes=None,\n",
       "               min_impurity_decrease=0.0, min_impurity_split=None,\n",
       "               min_samples_leaf=1, min_samples_split=2,\n",
       "               min_weight_fraction_leaf=0.0, n_estimators=10, n_jobs=1,\n",
       "               oob_score=False, random_state=None, verbose=0,\n",
       "               warm_start=False))],\n",
       " 'vect': CountVectorizer(analyzer='word', binary=False, decode_error='strict',\n",
       "         dtype=<class 'numpy.int64'>, encoding='utf-8', input='content',\n",
       "         lowercase=True, max_df=1.0, max_features=None, min_df=1,\n",
       "         ngram_range=(1, 1), preprocessor=None, stop_words=None,\n",
       "         strip_accents=None, token_pattern='(?u)\\\\b\\\\w\\\\w+\\\\b',\n",
       "         tokenizer=<function tokenize at 0x7f6124adfe18>, vocabulary=None),\n",
       " 'tfidf': TfidfTransformer(norm='l2', smooth_idf=True, sublinear_tf=False, use_idf=True),\n",
       " 'clf': RandomForestClassifier(bootstrap=True, class_weight=None, criterion='gini',\n",
       "             max_depth=None, max_features='auto', max_leaf_nodes=None,\n",
       "             min_impurity_decrease=0.0, min_impurity_split=None,\n",
       "             min_samples_leaf=1, min_samples_split=2,\n",
       "             min_weight_fraction_leaf=0.0, n_estimators=10, n_jobs=1,\n",
       "             oob_score=False, random_state=None, verbose=0,\n",
       "             warm_start=False),\n",
       " 'vect__analyzer': 'word',\n",
       " 'vect__binary': False,\n",
       " 'vect__decode_error': 'strict',\n",
       " 'vect__dtype': numpy.int64,\n",
       " 'vect__encoding': 'utf-8',\n",
       " 'vect__input': 'content',\n",
       " 'vect__lowercase': True,\n",
       " 'vect__max_df': 1.0,\n",
       " 'vect__max_features': None,\n",
       " 'vect__min_df': 1,\n",
       " 'vect__ngram_range': (1, 1),\n",
       " 'vect__preprocessor': None,\n",
       " 'vect__stop_words': None,\n",
       " 'vect__strip_accents': None,\n",
       " 'vect__token_pattern': '(?u)\\\\b\\\\w\\\\w+\\\\b',\n",
       " 'vect__tokenizer': <function __main__.tokenize(text)>,\n",
       " 'vect__vocabulary': None,\n",
       " 'tfidf__norm': 'l2',\n",
       " 'tfidf__smooth_idf': True,\n",
       " 'tfidf__sublinear_tf': False,\n",
       " 'tfidf__use_idf': True,\n",
       " 'clf__bootstrap': True,\n",
       " 'clf__class_weight': None,\n",
       " 'clf__criterion': 'gini',\n",
       " 'clf__max_depth': None,\n",
       " 'clf__max_features': 'auto',\n",
       " 'clf__max_leaf_nodes': None,\n",
       " 'clf__min_impurity_decrease': 0.0,\n",
       " 'clf__min_impurity_split': None,\n",
       " 'clf__min_samples_leaf': 1,\n",
       " 'clf__min_samples_split': 2,\n",
       " 'clf__min_weight_fraction_leaf': 0.0,\n",
       " 'clf__n_estimators': 10,\n",
       " 'clf__n_jobs': 1,\n",
       " 'clf__oob_score': False,\n",
       " 'clf__random_state': None,\n",
       " 'clf__verbose': 0,\n",
       " 'clf__warm_start': False}"
      ]
     },
     "execution_count": 46,
     "metadata": {},
     "output_type": "execute_result"
    }
   ],
   "source": [
    "pipeline.get_params()"
   ]
  },
  {
   "cell_type": "code",
   "execution_count": 47,
   "metadata": {},
   "outputs": [
    {
     "name": "stdout",
     "output_type": "stream",
     "text": [
      "Fitting 3 folds for each of 9 candidates, totalling 27 fits\n",
      "[CV] clf__max_depth=10, clf__min_samples_leaf=1 ......................\n",
      "[CV] clf__max_depth=10, clf__min_samples_leaf=1 ......................\n",
      "[CV] clf__max_depth=10, clf__min_samples_leaf=1 ......................\n",
      "[CV] clf__max_depth=10, clf__min_samples_leaf=2 ......................\n",
      "[CV] ....... clf__max_depth=10, clf__min_samples_leaf=1, total=  45.6s\n",
      "[CV] ....... clf__max_depth=10, clf__min_samples_leaf=1, total=  45.5s\n",
      "[CV] clf__max_depth=10, clf__min_samples_leaf=2 ......................\n",
      "[CV] clf__max_depth=10, clf__min_samples_leaf=2 ......................\n",
      "[CV] ....... clf__max_depth=10, clf__min_samples_leaf=1, total=  45.5s\n",
      "[CV] clf__max_depth=10, clf__min_samples_leaf=4 ......................\n",
      "[CV] ....... clf__max_depth=10, clf__min_samples_leaf=2, total=  45.4s\n",
      "[CV] clf__max_depth=10, clf__min_samples_leaf=4 ......................\n",
      "[CV] ....... clf__max_depth=10, clf__min_samples_leaf=2, total=  45.3s\n",
      "[CV] clf__max_depth=10, clf__min_samples_leaf=4 ......................\n",
      "[CV] ....... clf__max_depth=10, clf__min_samples_leaf=2, total=  45.4s\n",
      "[CV] clf__max_depth=20, clf__min_samples_leaf=1 ......................\n",
      "[CV] ....... clf__max_depth=10, clf__min_samples_leaf=4, total=  45.2s\n",
      "[CV] clf__max_depth=20, clf__min_samples_leaf=1 ......................\n",
      "[CV] ....... clf__max_depth=10, clf__min_samples_leaf=4, total=  45.3s\n",
      "[CV] clf__max_depth=20, clf__min_samples_leaf=1 ......................\n",
      "[CV] ....... clf__max_depth=10, clf__min_samples_leaf=4, total=  45.6s\n",
      "[CV] clf__max_depth=20, clf__min_samples_leaf=2 ......................\n",
      "[CV] ....... clf__max_depth=20, clf__min_samples_leaf=1, total=  47.5s\n",
      "[CV] clf__max_depth=20, clf__min_samples_leaf=2 ......................\n",
      "[CV] ....... clf__max_depth=20, clf__min_samples_leaf=1, total=  47.5s\n",
      "[CV] ....... clf__max_depth=20, clf__min_samples_leaf=1, total=  47.5s\n",
      "[CV] clf__max_depth=20, clf__min_samples_leaf=2 ......................\n",
      "[CV] clf__max_depth=20, clf__min_samples_leaf=4 ......................\n",
      "[CV] ....... clf__max_depth=20, clf__min_samples_leaf=2, total=  46.4s\n",
      "[CV] clf__max_depth=20, clf__min_samples_leaf=4 ......................\n",
      "[CV] ....... clf__max_depth=20, clf__min_samples_leaf=2, total=  46.2s\n",
      "[CV] clf__max_depth=20, clf__min_samples_leaf=4 ......................\n",
      "[CV] ....... clf__max_depth=20, clf__min_samples_leaf=4, total=  46.0s\n",
      "[CV] clf__max_depth=None, clf__min_samples_leaf=1 ....................\n",
      "[CV] ....... clf__max_depth=20, clf__min_samples_leaf=2, total=  46.4s\n",
      "[CV] clf__max_depth=None, clf__min_samples_leaf=1 ....................\n",
      "[CV] ....... clf__max_depth=20, clf__min_samples_leaf=4, total=  47.1s\n",
      "[CV] clf__max_depth=None, clf__min_samples_leaf=1 ....................\n",
      "[CV] ....... clf__max_depth=20, clf__min_samples_leaf=4, total=  47.1s\n",
      "[CV] clf__max_depth=None, clf__min_samples_leaf=2 ....................\n",
      "[CV] ..... clf__max_depth=None, clf__min_samples_leaf=1, total= 1.6min\n",
      "[CV] clf__max_depth=None, clf__min_samples_leaf=2 ....................\n",
      "[CV] ..... clf__max_depth=None, clf__min_samples_leaf=1, total= 1.6min\n",
      "[CV] clf__max_depth=None, clf__min_samples_leaf=2 ....................\n",
      "[CV] ..... clf__max_depth=None, clf__min_samples_leaf=2, total= 1.0min\n",
      "[CV] clf__max_depth=None, clf__min_samples_leaf=4 ....................\n",
      "[CV] ..... clf__max_depth=None, clf__min_samples_leaf=1, total= 1.6min\n",
      "[CV] clf__max_depth=None, clf__min_samples_leaf=4 ....................\n",
      "[CV] ..... clf__max_depth=None, clf__min_samples_leaf=2, total= 1.0min\n",
      "[CV] clf__max_depth=None, clf__min_samples_leaf=4 ....................\n",
      "[CV] ..... clf__max_depth=None, clf__min_samples_leaf=2, total= 1.0min\n",
      "[CV] ..... clf__max_depth=None, clf__min_samples_leaf=4, total=  52.9s\n",
      "[CV] ..... clf__max_depth=None, clf__min_samples_leaf=4, total=  43.6s\n",
      "[CV] ..... clf__max_depth=None, clf__min_samples_leaf=4, total=  34.8s\n"
     ]
    },
    {
     "name": "stderr",
     "output_type": "stream",
     "text": [
      "[Parallel(n_jobs=4)]: Done  27 out of  27 | elapsed:  9.4min finished\n"
     ]
    }
   ],
   "source": [
    "parameters = {'clf__max_depth': [10, 20, None],\n",
    "              'clf__min_samples_leaf': [1, 2, 4]\n",
    "             }\n",
    "\n",
    "cv = GridSearchCV(pipeline, param_grid=parameters, n_jobs=4, verbose=2)\n",
    "cv.fit(X_train, y_train)\n",
    "y_pred = pipeline.predict(X_test)"
   ]
  },
  {
   "cell_type": "markdown",
   "metadata": {},
   "source": [
    "### 7. Test your model\n",
    "Show the accuracy, precision, and recall of the tuned model.  \n",
    "\n",
    "Since this project focuses on code quality, process, and  pipelines, there is no minimum performance metric needed to pass. However, make sure to fine tune your models for accuracy, precision and recall to make your project stand out - especially for your portfolio!"
   ]
  },
  {
   "cell_type": "code",
   "execution_count": 48,
   "metadata": {},
   "outputs": [
    {
     "name": "stdout",
     "output_type": "stream",
     "text": [
      "                        precision    recall  f1-score   support\n",
      "\n",
      "               related       0.78      0.89      0.83      5008\n",
      "               request       0.39      0.08      0.13      1090\n",
      "                 offer       0.00      0.00      0.00        40\n",
      "           aid_related       0.44      0.13      0.20      2698\n",
      "          medical_help       0.00      0.00      0.00       506\n",
      "      medical_products       0.20      0.01      0.01       341\n",
      "     search_and_rescue       0.00      0.00      0.00       185\n",
      "              security       0.00      0.00      0.00       108\n",
      "              military       0.00      0.00      0.00       203\n",
      "                 water       0.25      0.00      0.01       382\n",
      "                  food       0.33      0.01      0.01       706\n",
      "               shelter       0.09      0.00      0.00       553\n",
      "              clothing       0.25      0.01      0.02        96\n",
      "                 money       0.33      0.01      0.01       160\n",
      "        missing_people       0.00      0.00      0.00        89\n",
      "              refugees       0.00      0.00      0.00       233\n",
      "                 death       0.25      0.00      0.01       301\n",
      "             other_aid       0.15      0.00      0.00       887\n",
      "infrastructure_related       0.20      0.00      0.00       443\n",
      "             transport       0.00      0.00      0.00       305\n",
      "             buildings       0.12      0.00      0.01       317\n",
      "           electricity       0.00      0.00      0.00       119\n",
      "                 tools       0.00      0.00      0.00        38\n",
      "             hospitals       0.00      0.00      0.00        66\n",
      "                 shops       0.00      0.00      0.00        30\n",
      "           aid_centers       0.00      0.00      0.00        74\n",
      "  other_infrastructure       0.33      0.00      0.01       307\n",
      "       weather_related       0.55      0.11      0.19      1850\n",
      "                floods       0.50      0.01      0.01       551\n",
      "                 storm       0.48      0.03      0.06       596\n",
      "                  fire       0.00      0.00      0.00        69\n",
      "            earthquake       0.82      0.13      0.22       644\n",
      "                  cold       0.00      0.00      0.00       128\n",
      "         other_weather       0.11      0.00      0.01       360\n",
      "         direct_report       0.37      0.05      0.09      1290\n",
      "\n",
      "           avg / total       0.44      0.25      0.27     20773\n",
      "\n",
      "----------------------------------------------------------------------\n",
      "Overall: \n",
      " 0.9224402581545438 \n"
     ]
    },
    {
     "name": "stderr",
     "output_type": "stream",
     "text": [
      "/opt/conda/lib/python3.6/site-packages/sklearn/metrics/classification.py:1135: UndefinedMetricWarning: Precision and F-score are ill-defined and being set to 0.0 in labels with no predicted samples.\n",
      "  'precision', 'predicted', average, warn_for)\n"
     ]
    }
   ],
   "source": [
    "results2 = display_results(y_test, y_pred)\n",
    "results2"
   ]
  },
  {
   "cell_type": "markdown",
   "metadata": {},
   "source": [
    "### 8. Try improving your model further. Here are a few ideas:\n",
    "* try other machine learning algorithms\n",
    "* add other features besides the TF-IDF"
   ]
  },
  {
   "cell_type": "code",
   "execution_count": 50,
   "metadata": {},
   "outputs": [
    {
     "data": {
      "text/plain": [
       "{'clf__max_depth': 10, 'clf__min_samples_leaf': 4}"
      ]
     },
     "execution_count": 50,
     "metadata": {},
     "output_type": "execute_result"
    }
   ],
   "source": [
    "cv.best_params_"
   ]
  },
  {
   "cell_type": "code",
   "execution_count": 57,
   "metadata": {},
   "outputs": [],
   "source": [
    "pipeline_2 = Pipeline([\n",
    "    ('vect', CountVectorizer(tokenizer=tokenize)),\n",
    "    ('tfidf', TfidfTransformer()),\n",
    "    ('clf', MultiOutputClassifier(RandomForestClassifier(),n_jobs=1))\n",
    "    ])\n",
    "\n",
    "X_train, X_test, y_train, y_test = train_test_split(X, y)\n",
    "pipeline_2.fit(X_train, y_train)\n",
    "y_pred = pipeline_2.predict(X_test)\n"
   ]
  },
  {
   "cell_type": "code",
   "execution_count": 58,
   "metadata": {},
   "outputs": [
    {
     "name": "stdout",
     "output_type": "stream",
     "text": [
      "                        precision    recall  f1-score   support\n",
      "\n",
      "               related       0.78      0.93      0.85      5040\n",
      "               request       0.35      0.05      0.09      1127\n",
      "                 offer       0.00      0.00      0.00        29\n",
      "           aid_related       0.46      0.19      0.27      2721\n",
      "          medical_help       0.06      0.00      0.00       492\n",
      "      medical_products       0.00      0.00      0.00       325\n",
      "     search_and_rescue       0.00      0.00      0.00       190\n",
      "              security       0.00      0.00      0.00       111\n",
      "              military       0.33      0.00      0.01       209\n",
      "                 water       0.18      0.01      0.02       423\n",
      "                  food       0.12      0.01      0.01       743\n",
      "               shelter       0.19      0.01      0.02       593\n",
      "              clothing       0.00      0.00      0.00       104\n",
      "                 money       0.00      0.00      0.00       150\n",
      "        missing_people       0.00      0.00      0.00        65\n",
      "              refugees       0.00      0.00      0.00       222\n",
      "                 death       0.00      0.00      0.00       283\n",
      "             other_aid       0.11      0.01      0.02       824\n",
      "infrastructure_related       0.17      0.01      0.01       445\n",
      "             transport       0.17      0.00      0.01       280\n",
      "             buildings       0.04      0.00      0.01       359\n",
      "           electricity       0.00      0.00      0.00       124\n",
      "                 tools       0.00      0.00      0.00        36\n",
      "             hospitals       0.00      0.00      0.00        67\n",
      "                 shops       0.00      0.00      0.00        39\n",
      "           aid_centers       0.00      0.00      0.00        69\n",
      "  other_infrastructure       0.12      0.00      0.01       306\n",
      "       weather_related       0.54      0.15      0.23      1826\n",
      "                floods       0.06      0.00      0.00       527\n",
      "                 storm       0.37      0.02      0.04       605\n",
      "                  fire       0.00      0.00      0.00        75\n",
      "            earthquake       0.70      0.13      0.22       597\n",
      "                  cold       0.00      0.00      0.00       135\n",
      "         other_weather       0.12      0.01      0.01       360\n",
      "         direct_report       0.37      0.06      0.10      1274\n",
      "\n",
      "           avg / total       0.40      0.28      0.28     20775\n",
      "\n",
      "----------------------------------------------------------------------\n",
      "Overall: \n",
      " 0.9222483865341007 \n"
     ]
    },
    {
     "name": "stderr",
     "output_type": "stream",
     "text": [
      "/opt/conda/lib/python3.6/site-packages/sklearn/metrics/classification.py:1135: UndefinedMetricWarning: Precision and F-score are ill-defined and being set to 0.0 in labels with no predicted samples.\n",
      "  'precision', 'predicted', average, warn_for)\n"
     ]
    }
   ],
   "source": [
    "results3 = display_results(y_test, y_pred)\n",
    "results3"
   ]
  },
  {
   "cell_type": "markdown",
   "metadata": {},
   "source": [
    "### 9. Export your model as a pickle file"
   ]
  },
  {
   "cell_type": "code",
   "execution_count": 63,
   "metadata": {},
   "outputs": [],
   "source": [
    "pickle.dump(pipeline_2,open('model.pkl','wb'))"
   ]
  },
  {
   "cell_type": "markdown",
   "metadata": {},
   "source": [
    "### 10. Use this notebook to complete `train.py`\n",
    "Use the template file attached in the Resources folder to write a script that runs the steps above to create a database and export a model based on a new dataset specified by the user."
   ]
  },
  {
   "cell_type": "code",
   "execution_count": null,
   "metadata": {},
   "outputs": [],
   "source": []
  }
 ],
 "metadata": {
  "kernelspec": {
   "display_name": "Python 3",
   "language": "python",
   "name": "python3"
  },
  "language_info": {
   "codemirror_mode": {
    "name": "ipython",
    "version": 3
   },
   "file_extension": ".py",
   "mimetype": "text/x-python",
   "name": "python",
   "nbconvert_exporter": "python",
   "pygments_lexer": "ipython3",
   "version": "3.6.3"
  }
 },
 "nbformat": 4,
 "nbformat_minor": 2
}
